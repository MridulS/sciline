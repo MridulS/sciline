{
 "cells": [
  {
   "cell_type": "markdown",
   "id": "1e07a87b-a043-458f-ad37-4712c3c42f2c",
   "metadata": {},
   "source": [
    "# Provenance\n",
    "\n",
    "It is generally useful to be able to track the provenance of a dataset, that is, where it came from and how it was processed.\n",
    "Sciline can help because its task graphs encode the 'how'.\n",
    "To this end, a graph needs to be stored together with the processed data.\n",
    "\n",
    "Considering that such graphs might be stored for a long time, they need to be serialized to a format that\n",
    "\n",
    "- represents the full structure of the graph,\n",
    "- is readable by software that does not depend on Sciline or Python,\n",
    "- is human readable (with some effort, the priority is machine readability).\n",
    "\n",
    "Points 2 and 3 exclude serializing the full Python objects, e.g., with `pickle`.\n",
    "But this means that any solution will be partial as it cannot capture the full environment that the pipeline is defined in.\n",
    "In particular, it cannot track functions called by providers that are external to the pipeline.\n",
    "See the section on [Reproducibility](#Reproducibility).\n",
    "\n",
    "Note that the [Graphviz](https://graphviz.org/) objects produced by [Pipeline.visualize](../generated/classes/sciline.Pipeline.rst#sciline.Pipeline.visualize) are not sufficient because they do not encode the full graph structure but are instead optimized to give an overview of a task graph.\n",
    "\n",
    "<div class=\"alert alert-warning\">\n",
    "    \n",
    "**Attention:**\n",
    "\n",
    "Sciline does not currently support serializing the values of parameters.\n",
    "This is the responsibility of the user, at least for now.\n",
    "\n",
    "</div>\n",
    "\n",
    "## Serialization of task graphs to JSON\n",
    "\n",
    "Task graphs can be serialized to a simple JSON object that contains a node list and an edge list.\n",
    "This format is similar to other JSON graph formats used by, e.g., [Networkx](https://networkx.org/) and [JSON Graph Format](http://jsongraphformat.info/).\n",
    "\n",
    "First, define a helper to display JSON:"
   ]
  },
  {
   "cell_type": "code",
   "execution_count": null,
   "id": "b7836a2b-c7bf-4dd8-ad3c-bbe4a585ed84",
   "metadata": {},
   "outputs": [],
   "source": [
    "from IPython import display\n",
    "import json\n",
    "\n",
    "def show_json(j: dict):\n",
    "    return display.Markdown(f\"\"\"```json\n",
    "{json.dumps(j, indent=2)}\n",
    "```\"\"\")"
   ]
  },
  {
   "cell_type": "markdown",
   "id": "5b16b03c-e12c-4642-9878-05c53ed05a6f",
   "metadata": {},
   "source": [
    "### Simple pipeline\n",
    "\n",
    "First, construct a short pipeline, including some generic types and providers:"
   ]
  },
  {
   "cell_type": "code",
   "execution_count": null,
   "id": "71afe777-1c9c-4d97-8c48-d2fac427b073",
   "metadata": {},
   "outputs": [],
   "source": [
    "from typing import NewType, TypeVar\n",
    "import sciline\n",
    "\n",
    "A = NewType('A', int)\n",
    "B = NewType('B', int)\n",
    "T = TypeVar('T', A, B)\n",
    "\n",
    "class Int(sciline.Scope[T, int], int): ...\n",
    "\n",
    "def make_int_b() -> Int[B]:\n",
    "    return Int[B](2)\n",
    "\n",
    "def to_string(a: Int[A], b: Int[B]) -> str:\n",
    "    return f'a: {a}, b: {b}'\n",
    "\n",
    "pipeline = sciline.Pipeline([make_int_b, to_string], params={Int[A]: 3})\n",
    "task_graph = pipeline.get(str)\n",
    "task_graph.visualize(graph_attr={'rankdir': 'LR'})"
   ]
  },
  {
   "cell_type": "markdown",
   "id": "44a790a9-53b1-409a-b6e5-fbb70c7ec7b0",
   "metadata": {},
   "source": [
    "This graph can be serialized to JSON using its [serialize](../generated/classes/sciline.TaskGraph.rst#sciline.TaskGraph.serialize) method.\n",
    "We need to use the task graph obtained from `pipeline.get` for this purpose, not the pipeline itself:"
   ]
  },
  {
   "cell_type": "code",
   "execution_count": null,
   "id": "b1be6cda-7dfd-4047-ba7e-8a8fd88b3ca0",
   "metadata": {},
   "outputs": [],
   "source": [
    "show_json(task_graph.serialize())"
   ]
  },
  {
   "cell_type": "markdown",
   "id": "ae4a8925-b115-41bc-a618-6ad23dd27fa1",
   "metadata": {},
   "source": [
    "Let's disect the format.\n",
    "At the top level, there are these properties:\n",
    "\n",
    "- `directed` and `multigraph`: Those properties always have the same values. They are included for compatibility with [Networkx](https://networkx.org/) and [JSON Graph Format](http://jsongraphformat.info/).\n",
    "- `nodes`: An array of node objects.\n",
    "- `edges`: An array of directed edges. The `source` and `target` refer to the `id` fields of a node.\n",
    "\n",
    "The nodes always have an `id`, `label`, and `kind`.\n",
    "The `id` is a unique identifier of the node. (**Do not rely on it having a specific format, this may change at any time!**)\n",
    "The `label` is a human-readable name for the node.\n",
    "The `kind` indicates what the node represents, there are data nodes and provider nodes (prefixed by `p_`), where data nodes correspond to the types used as keys when building a pipeline.\n",
    "\n",
    "Depending on their `kind`, nodes have additional properties such as the `type` of a data object or parameter, or the function that implements a provider.\n",
    "Note how those properties use fully qualified names.\n",
    "Those names make it easier to identify exactly what data and functions have been used while the `label` is a shortened representation."
   ]
  },
  {
   "cell_type": "markdown",
   "id": "5252f503-7779-4d6b-903d-c4d652559c5a",
   "metadata": {},
   "source": [
    "### Pipeline with a parameter table\n",
    "\n",
    "Pipelines with parameter tables can also be serialized but result in more complicated graphs."
   ]
  },
  {
   "cell_type": "code",
   "execution_count": null,
   "id": "13d405df-0f15-4cdd-a275-4dcd3902ae7b",
   "metadata": {},
   "outputs": [],
   "source": [
    "def to_string(x: float) -> str:\n",
    "    return str(x)\n",
    "\n",
    "pipeline = sciline.Pipeline([to_string])\n",
    "pipeline.set_param_table(sciline.ParamTable(int, {float: [3.0, -5.2]}))\n",
    "task_graph = pipeline.get(sciline.Series[int, str])\n",
    "task_graph.visualize(graph_attr={'rankdir': 'LR'})"
   ]
  },
  {
   "cell_type": "code",
   "execution_count": null,
   "id": "41af9c26-6357-4db6-a495-8173027694df",
   "metadata": {},
   "outputs": [],
   "source": [
    "show_json(task_graph.serialize())"
   ]
  },
  {
   "cell_type": "markdown",
   "id": "5d8c0e23-3a06-485b-b90c-680ed4fa7a7a",
   "metadata": {},
   "source": [
    "The serialized graph contains some nodes that are not shown in the visualization above.\n",
    "Those nodes reveal some of the internals of `Pipeline` and `TaskGraph` and are needed to fully reconstruct the graph from JSON.\n",
    "\n",
    "- For the final `Series` object, there are two nodes: `\"Series[int, str]\"` and `\"provide_series[int, str]\"`.\n",
    "  The former is a data node that represents the actual `Series` object, while the latter is a provider that assembles the series from its components.\n",
    "- Some parameter table entries are also represented by two nodes: E.g., `\"float(int:0)\"` and `\"table_cell(float(int:0))\"`.\n",
    "  The former is a special data node that contains properties which identify the table and location in the table that this data belongs to.\n",
    "  The latter is a provider that produces said data from the user-defined table.\n",
    "  Some properties of the former are required to fully identify the latter.\n",
    "\n",
    "In principle, the special provider nodes listed above could be omitted without losing information.\n",
    "But they are included to ensure that, like `TaskGraph`, the serialized graph is bipartite in the sets of providers and data."
   ]
  },
  {
   "cell_type": "markdown",
   "id": "279948ef-67ac-4434-9725-7b9b380c48ed",
   "metadata": {},
   "source": [
    "### Reproducibility\n",
    "\n",
    "The JSON format used here was chosen as a simple, future-proof format for task graphs.\n",
    "It can, however,  only capture part of the actual pipeline.\n",
    "For example, it only shows the structure of the graph and contains the names of functions and types.\n",
    "But it does not encode the implementation of those functions or types.\n",
    "Thus, the graph can only be correctly reconstructed in an environment that contains the same software that was used to write the graph.\n",
    "This includes all packages that might be used by the providers.\n",
    "\n",
    "<div class=\"alert alert-info\">\n",
    "    \n",
    "**Hint:**\n",
    "\n",
    "Note, for example, that the graphs here refer to functions and types in `__main__`, that is, functions and types defined in this Jupyter notebook.\n",
    "These cannot be reliably reconstructed.\n",
    "Thus, it is recommended to define all pipeline components in a Python package with a version number.\n",
    "\n",
    "</div>\n",
    "\n",
    "<div class=\"alert alert-warning\">\n",
    "    \n",
    "**Warning:**\n",
    "\n",
    "Python 3.12 type aliases (`type MyType = int`) only allow for limited inspection of the alias.\n",
    "In particular, they have no `__qualname__`.\n",
    "This means that they can only be fully represented when defined at the top level of a module.\n",
    "\n",
    "</div>"
   ]
  },
  {
   "cell_type": "markdown",
   "id": "dfe68a98-5777-4b9b-9c02-029e32c01385",
   "metadata": {},
   "source": [
    "### JSON schema\n",
    "\n",
    "The schema for the JSON object returned by `TaskGraph.serialize` is available as part of the Sciline package:"
   ]
  },
  {
   "cell_type": "code",
   "execution_count": null,
   "id": "055430c0-eedc-41df-afbb-962f15c20b21",
   "metadata": {},
   "outputs": [],
   "source": [
    "from sciline.serialize import json_schema"
   ]
  },
  {
   "cell_type": "markdown",
   "id": "6e3ba1f9-e8c1-4167-8368-7ed7cf8d3f46",
   "metadata": {},
   "source": [
    "The schema is too long to show it here.\n",
    "It is available online at https://github.com/scipp/sciline/blob/869cafd0697b7bf6df85c45dc44bf21977c891fb/src/sciline/serialize/graph_json_schema.json"
   ]
  }
 ],
 "metadata": {
  "kernelspec": {
   "display_name": "Python 3 (ipykernel)",
   "language": "python",
   "name": "python3"
  },
  "language_info": {
   "codemirror_mode": {
    "name": "ipython",
    "version": 3
   },
   "file_extension": ".py",
   "mimetype": "text/x-python",
   "name": "python",
   "nbconvert_exporter": "python",
   "pygments_lexer": "ipython3",
   "version": "3.9.18"
  }
 },
 "nbformat": 4,
 "nbformat_minor": 5
}
